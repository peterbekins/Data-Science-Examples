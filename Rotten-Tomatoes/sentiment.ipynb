{
 "cells": [
  {
   "cell_type": "markdown",
   "metadata": {},
   "source": [
    "# Sentiment Analysis\n",
    "\n",
    "This workbook presents a variation of basic sentiment analysis that follows the treebank approach modelled at https://nlp.stanford.edu/sentiment/. \n",
    "\n",
    "The dataset includes a list of sentences that have been pulled from the Rotten Tomatoes movie review site and scored for sentiment as follows:\n",
    "\n",
    "- 0 - negative\n",
    "- 1 - somewhat negative\n",
    "- 2 - neutral\n",
    "- 3 - somewhat positive\n",
    "- 4 - positive\n",
    "\n",
    "Each root sentence has also been parsed into a phrase tree, with the component phrases scored and included in the training data. This model is intended to improve the classic \"bag-of-words\" approach, which has difficulty classifying longer and more complex sentences due to issues like the scope of negation, etc.  \n"
   ]
  },
  {
   "cell_type": "markdown",
   "metadata": {},
   "source": [
    "## 1. Data Exploration\n",
    "\n",
    "The full dataset has been split into train and test sets (available at https://www.kaggle.com/c/sentiment-analysis-on-movie-reviews) which are stored in a tab-delimited file (.tsv). For this workbook I will fit and evaluate models using only the train set since the test set lacks labels."
   ]
  },
  {
   "cell_type": "markdown",
   "metadata": {},
   "source": [
    "First, I will load the data into a pandas dataframe."
   ]
  },
  {
   "cell_type": "code",
   "execution_count": 1,
   "metadata": {},
   "outputs": [],
   "source": [
    "%matplotlib inline\n",
    "import pandas as pd\n",
    "data = pd.read_csv('./data/train.tsv', delimiter=\"\\t\")"
   ]
  },
  {
   "cell_type": "markdown",
   "metadata": {},
   "source": [
    "As shown below, the train set includes 156060 phrases that compose 8529 distinct sentences."
   ]
  },
  {
   "cell_type": "code",
   "execution_count": 2,
   "metadata": {},
   "outputs": [
    {
     "data": {
      "text/plain": [
       "(156060, 4)"
      ]
     },
     "execution_count": 2,
     "metadata": {},
     "output_type": "execute_result"
    }
   ],
   "source": [
    "data.shape"
   ]
  },
  {
   "cell_type": "code",
   "execution_count": 3,
   "metadata": {},
   "outputs": [
    {
     "data": {
      "text/plain": [
       "8529"
      ]
     },
     "execution_count": 3,
     "metadata": {},
     "output_type": "execute_result"
    }
   ],
   "source": [
    "data['SentenceId'].nunique()"
   ]
  },
  {
   "cell_type": "markdown",
   "metadata": {},
   "source": [
    "The following function will add a column **N** to the dataframe that measures the length of the phrase in number of words."
   ]
  },
  {
   "cell_type": "code",
   "execution_count": 6,
   "metadata": {},
   "outputs": [],
   "source": [
    "import nltk\n",
    "from nltk import RegexpTokenizer\n",
    "def n_grams(phrase):\n",
    "    tokenizer = nltk.RegexpTokenizer(r\"\\w+\")\n",
    "    words = tokenizer.tokenize(phrase)\n",
    "    return len(words)\n",
    "\n",
    "data['N'] = data['Phrase'].apply(n_grams)"
   ]
  },
  {
   "cell_type": "markdown",
   "metadata": {},
   "source": [
    "The following histogram shows the distribution of phrase lengths in the dataset. The minimum length is 1 (individual words) while the maximum length is 48."
   ]
  },
  {
   "cell_type": "code",
   "execution_count": 7,
   "metadata": {},
   "outputs": [
    {
     "data": {
      "text/plain": [
       "<matplotlib.axes._subplots.AxesSubplot at 0x1a1fd5ac10>"
      ]
     },
     "execution_count": 7,
     "metadata": {},
     "output_type": "execute_result"
    },
    {
     "data": {
      "image/png": "[encoded data removed]",
      "text/plain": [
       "<Figure size 432x288 with 1 Axes>"
      ]
     },
     "metadata": {
      "needs_background": "light"
     },
     "output_type": "display_data"
    }
   ],
   "source": [
    "data['N'].hist(bins = 20)"
   ]
  },
  {
   "cell_type": "markdown",
   "metadata": {},
   "source": [
    "The sentences themselves also vary in length, though surprisingly there are 47 sentences that are only one-word long."
   ]
  },
  {
   "cell_type": "code",
   "execution_count": 8,
   "metadata": {},
   "outputs": [
    {
     "data": {
      "text/plain": [
       "<matplotlib.axes._subplots.AxesSubplot at 0x10a17fcd0>"
      ]
     },
     "execution_count": 8,
     "metadata": {},
     "output_type": "execute_result"
    },
    {
     "data": {
      "image/png": "[encoded data removed]",
      "text/plain": [
       "<Figure size 432x288 with 1 Axes>"
      ]
     },
     "metadata": {
      "needs_background": "light"
     },
     "output_type": "display_data"
    }
   ],
   "source": [
    "sentences = data.groupby(['SentenceId']).first().reset_index()\n",
    "sentences['N'].hist(bins = 20)"
   ]
  },
  {
   "cell_type": "markdown",
   "metadata": {},
   "source": [
    "Several of these appear to be mistakes in which the full sentence has not been preserved in the dataset, as with dentence 694 shown below. These data quality issues will obviously affect the accuracy of our model, but I am not going to take the time to clean it up for the purposes of this example."
   ]
  },
  {
   "cell_type": "code",
   "execution_count": 10,
   "metadata": {},
   "outputs": [
    {
     "data": {
      "text/html": [
       "<div>\n",
       "<style scoped>\n",
       "    .dataframe tbody tr th:only-of-type {\n",
       "        vertical-align: middle;\n",
       "    }\n",
       "\n",
       "    .dataframe tbody tr th {\n",
       "        vertical-align: top;\n",
       "    }\n",
       "\n",
       "    .dataframe thead th {\n",
       "        text-align: right;\n",
       "    }\n",
       "</style>\n",
       "<table border=\"1\" class=\"dataframe\">\n",
       "  <thead>\n",
       "    <tr style=\"text-align: right;\">\n",
       "      <th></th>\n",
       "      <th>PhraseId</th>\n",
       "      <th>SentenceId</th>\n",
       "      <th>Phrase</th>\n",
       "      <th>Sentiment</th>\n",
       "      <th>N</th>\n",
       "    </tr>\n",
       "  </thead>\n",
       "  <tbody>\n",
       "    <tr>\n",
       "      <th>16123</th>\n",
       "      <td>16124</td>\n",
       "      <td>694</td>\n",
       "      <td>moved</td>\n",
       "      <td>3</td>\n",
       "      <td>1</td>\n",
       "    </tr>\n",
       "    <tr>\n",
       "      <th>16124</th>\n",
       "      <td>16125</td>\n",
       "      <td>694</td>\n",
       "      <td>the emotional tumult</td>\n",
       "      <td>1</td>\n",
       "      <td>3</td>\n",
       "    </tr>\n",
       "    <tr>\n",
       "      <th>16125</th>\n",
       "      <td>16126</td>\n",
       "      <td>694</td>\n",
       "      <td>emotional tumult</td>\n",
       "      <td>2</td>\n",
       "      <td>2</td>\n",
       "    </tr>\n",
       "    <tr>\n",
       "      <th>16126</th>\n",
       "      <td>16127</td>\n",
       "      <td>694</td>\n",
       "      <td>tumult</td>\n",
       "      <td>2</td>\n",
       "      <td>1</td>\n",
       "    </tr>\n",
       "    <tr>\n",
       "      <th>16127</th>\n",
       "      <td>16128</td>\n",
       "      <td>694</td>\n",
       "      <td>depends a lot on how interesting and likable y...</td>\n",
       "      <td>2</td>\n",
       "      <td>11</td>\n",
       "    </tr>\n",
       "    <tr>\n",
       "      <th>16128</th>\n",
       "      <td>16129</td>\n",
       "      <td>694</td>\n",
       "      <td>depends a lot on how interesting and likable y...</td>\n",
       "      <td>3</td>\n",
       "      <td>11</td>\n",
       "    </tr>\n",
       "    <tr>\n",
       "      <th>16129</th>\n",
       "      <td>16130</td>\n",
       "      <td>694</td>\n",
       "      <td>depends</td>\n",
       "      <td>2</td>\n",
       "      <td>1</td>\n",
       "    </tr>\n",
       "    <tr>\n",
       "      <th>16130</th>\n",
       "      <td>16131</td>\n",
       "      <td>694</td>\n",
       "      <td>a lot on how interesting and likable you find ...</td>\n",
       "      <td>2</td>\n",
       "      <td>10</td>\n",
       "    </tr>\n",
       "    <tr>\n",
       "      <th>16131</th>\n",
       "      <td>16132</td>\n",
       "      <td>694</td>\n",
       "      <td>on how interesting and likable you find them</td>\n",
       "      <td>2</td>\n",
       "      <td>8</td>\n",
       "    </tr>\n",
       "    <tr>\n",
       "      <th>16132</th>\n",
       "      <td>16133</td>\n",
       "      <td>694</td>\n",
       "      <td>how interesting and likable you find them</td>\n",
       "      <td>2</td>\n",
       "      <td>7</td>\n",
       "    </tr>\n",
       "    <tr>\n",
       "      <th>16133</th>\n",
       "      <td>16134</td>\n",
       "      <td>694</td>\n",
       "      <td>how interesting and likable</td>\n",
       "      <td>3</td>\n",
       "      <td>4</td>\n",
       "    </tr>\n",
       "    <tr>\n",
       "      <th>16134</th>\n",
       "      <td>16135</td>\n",
       "      <td>694</td>\n",
       "      <td>interesting and likable</td>\n",
       "      <td>4</td>\n",
       "      <td>3</td>\n",
       "    </tr>\n",
       "    <tr>\n",
       "      <th>16135</th>\n",
       "      <td>16136</td>\n",
       "      <td>694</td>\n",
       "      <td>interesting and</td>\n",
       "      <td>4</td>\n",
       "      <td>2</td>\n",
       "    </tr>\n",
       "    <tr>\n",
       "      <th>16136</th>\n",
       "      <td>16137</td>\n",
       "      <td>694</td>\n",
       "      <td>likable</td>\n",
       "      <td>3</td>\n",
       "      <td>1</td>\n",
       "    </tr>\n",
       "    <tr>\n",
       "      <th>16137</th>\n",
       "      <td>16138</td>\n",
       "      <td>694</td>\n",
       "      <td>you find them</td>\n",
       "      <td>2</td>\n",
       "      <td>3</td>\n",
       "    </tr>\n",
       "    <tr>\n",
       "      <th>16138</th>\n",
       "      <td>16139</td>\n",
       "      <td>694</td>\n",
       "      <td>find them</td>\n",
       "      <td>2</td>\n",
       "      <td>2</td>\n",
       "    </tr>\n",
       "  </tbody>\n",
       "</table>\n",
       "</div>"
      ],
      "text/plain": [
       "       PhraseId  SentenceId  \\\n",
       "16123     16124         694   \n",
       "16124     16125         694   \n",
       "16125     16126         694   \n",
       "16126     16127         694   \n",
       "16127     16128         694   \n",
       "16128     16129         694   \n",
       "16129     16130         694   \n",
       "16130     16131         694   \n",
       "16131     16132         694   \n",
       "16132     16133         694   \n",
       "16133     16134         694   \n",
       "16134     16135         694   \n",
       "16135     16136         694   \n",
       "16136     16137         694   \n",
       "16137     16138         694   \n",
       "16138     16139         694   \n",
       "\n",
       "                                                  Phrase  Sentiment   N  \n",
       "16123                                              moved          3   1  \n",
       "16124                               the emotional tumult          1   3  \n",
       "16125                                   emotional tumult          2   2  \n",
       "16126                                             tumult          2   1  \n",
       "16127  depends a lot on how interesting and likable y...          2  11  \n",
       "16128  depends a lot on how interesting and likable y...          3  11  \n",
       "16129                                            depends          2   1  \n",
       "16130  a lot on how interesting and likable you find ...          2  10  \n",
       "16131       on how interesting and likable you find them          2   8  \n",
       "16132          how interesting and likable you find them          2   7  \n",
       "16133                        how interesting and likable          3   4  \n",
       "16134                            interesting and likable          4   3  \n",
       "16135                                    interesting and          4   2  \n",
       "16136                                            likable          3   1  \n",
       "16137                                      you find them          2   3  \n",
       "16138                                          find them          2   2  "
      ]
     },
     "execution_count": 10,
     "metadata": {},
     "output_type": "execute_result"
    }
   ],
   "source": [
    "data.loc[(data['SentenceId'] == 694)]"
   ]
  },
  {
   "cell_type": "markdown",
   "metadata": {},
   "source": [
    "The full data for sentence 17 below illustrates the proper division of phrases."
   ]
  },
  {
   "cell_type": "code",
   "execution_count": 147,
   "metadata": {},
   "outputs": [
    {
     "data": {
      "text/html": [
       "<div>\n",
       "<style scoped>\n",
       "    .dataframe tbody tr th:only-of-type {\n",
       "        vertical-align: middle;\n",
       "    }\n",
       "\n",
       "    .dataframe tbody tr th {\n",
       "        vertical-align: top;\n",
       "    }\n",
       "\n",
       "    .dataframe thead th {\n",
       "        text-align: right;\n",
       "    }\n",
       "</style>\n",
       "<table border=\"1\" class=\"dataframe\">\n",
       "  <thead>\n",
       "    <tr style=\"text-align: right;\">\n",
       "      <th></th>\n",
       "      <th>PhraseId</th>\n",
       "      <th>SentenceId</th>\n",
       "      <th>Phrase</th>\n",
       "      <th>Sentiment</th>\n",
       "      <th>N</th>\n",
       "    </tr>\n",
       "  </thead>\n",
       "  <tbody>\n",
       "    <tr>\n",
       "      <th>458</th>\n",
       "      <td>459</td>\n",
       "      <td>17</td>\n",
       "      <td>a bilingual charmer , just like the woman who ...</td>\n",
       "      <td>3</td>\n",
       "      <td>10</td>\n",
       "    </tr>\n",
       "    <tr>\n",
       "      <th>459</th>\n",
       "      <td>460</td>\n",
       "      <td>17</td>\n",
       "      <td>a bilingual charmer ,</td>\n",
       "      <td>3</td>\n",
       "      <td>3</td>\n",
       "    </tr>\n",
       "    <tr>\n",
       "      <th>460</th>\n",
       "      <td>461</td>\n",
       "      <td>17</td>\n",
       "      <td>a bilingual charmer</td>\n",
       "      <td>3</td>\n",
       "      <td>3</td>\n",
       "    </tr>\n",
       "    <tr>\n",
       "      <th>461</th>\n",
       "      <td>462</td>\n",
       "      <td>17</td>\n",
       "      <td>bilingual charmer</td>\n",
       "      <td>3</td>\n",
       "      <td>2</td>\n",
       "    </tr>\n",
       "    <tr>\n",
       "      <th>462</th>\n",
       "      <td>463</td>\n",
       "      <td>17</td>\n",
       "      <td>bilingual</td>\n",
       "      <td>2</td>\n",
       "      <td>1</td>\n",
       "    </tr>\n",
       "    <tr>\n",
       "      <th>463</th>\n",
       "      <td>464</td>\n",
       "      <td>17</td>\n",
       "      <td>charmer</td>\n",
       "      <td>3</td>\n",
       "      <td>1</td>\n",
       "    </tr>\n",
       "    <tr>\n",
       "      <th>464</th>\n",
       "      <td>465</td>\n",
       "      <td>17</td>\n",
       "      <td>just like the woman who inspired it</td>\n",
       "      <td>2</td>\n",
       "      <td>7</td>\n",
       "    </tr>\n",
       "    <tr>\n",
       "      <th>465</th>\n",
       "      <td>466</td>\n",
       "      <td>17</td>\n",
       "      <td>like the woman who inspired it</td>\n",
       "      <td>2</td>\n",
       "      <td>6</td>\n",
       "    </tr>\n",
       "    <tr>\n",
       "      <th>466</th>\n",
       "      <td>467</td>\n",
       "      <td>17</td>\n",
       "      <td>the woman who inspired it</td>\n",
       "      <td>2</td>\n",
       "      <td>5</td>\n",
       "    </tr>\n",
       "    <tr>\n",
       "      <th>467</th>\n",
       "      <td>468</td>\n",
       "      <td>17</td>\n",
       "      <td>the woman</td>\n",
       "      <td>2</td>\n",
       "      <td>2</td>\n",
       "    </tr>\n",
       "    <tr>\n",
       "      <th>468</th>\n",
       "      <td>469</td>\n",
       "      <td>17</td>\n",
       "      <td>woman</td>\n",
       "      <td>2</td>\n",
       "      <td>1</td>\n",
       "    </tr>\n",
       "    <tr>\n",
       "      <th>469</th>\n",
       "      <td>470</td>\n",
       "      <td>17</td>\n",
       "      <td>who inspired it</td>\n",
       "      <td>2</td>\n",
       "      <td>3</td>\n",
       "    </tr>\n",
       "    <tr>\n",
       "      <th>470</th>\n",
       "      <td>471</td>\n",
       "      <td>17</td>\n",
       "      <td>who</td>\n",
       "      <td>2</td>\n",
       "      <td>1</td>\n",
       "    </tr>\n",
       "    <tr>\n",
       "      <th>471</th>\n",
       "      <td>472</td>\n",
       "      <td>17</td>\n",
       "      <td>inspired it</td>\n",
       "      <td>2</td>\n",
       "      <td>2</td>\n",
       "    </tr>\n",
       "    <tr>\n",
       "      <th>472</th>\n",
       "      <td>473</td>\n",
       "      <td>17</td>\n",
       "      <td>inspired</td>\n",
       "      <td>3</td>\n",
       "      <td>1</td>\n",
       "    </tr>\n",
       "  </tbody>\n",
       "</table>\n",
       "</div>"
      ],
      "text/plain": [
       "     PhraseId  SentenceId                                             Phrase  \\\n",
       "458       459          17  a bilingual charmer , just like the woman who ...   \n",
       "459       460          17                              a bilingual charmer ,   \n",
       "460       461          17                                a bilingual charmer   \n",
       "461       462          17                                  bilingual charmer   \n",
       "462       463          17                                          bilingual   \n",
       "463       464          17                                            charmer   \n",
       "464       465          17                just like the woman who inspired it   \n",
       "465       466          17                     like the woman who inspired it   \n",
       "466       467          17                          the woman who inspired it   \n",
       "467       468          17                                          the woman   \n",
       "468       469          17                                              woman   \n",
       "469       470          17                                    who inspired it   \n",
       "470       471          17                                                who   \n",
       "471       472          17                                        inspired it   \n",
       "472       473          17                                           inspired   \n",
       "\n",
       "     Sentiment   N  \n",
       "458          3  10  \n",
       "459          3   3  \n",
       "460          3   3  \n",
       "461          3   2  \n",
       "462          2   1  \n",
       "463          3   1  \n",
       "464          2   7  \n",
       "465          2   6  \n",
       "466          2   5  \n",
       "467          2   2  \n",
       "468          2   1  \n",
       "469          2   3  \n",
       "470          2   1  \n",
       "471          2   2  \n",
       "472          3   1  "
      ]
     },
     "execution_count": 147,
     "metadata": {},
     "output_type": "execute_result"
    }
   ],
   "source": [
    "data.loc[(data['SentenceId'] == 17)]"
   ]
  },
  {
   "cell_type": "markdown",
   "metadata": {},
   "source": [
    "I have hand coded this sentence using the NLTK.Tree structure and using the sentiment labels as the nodes to visualize the sentence structure below."
   ]
  },
  {
   "cell_type": "code",
   "execution_count": 19,
   "metadata": {},
   "outputs": [
    {
     "name": "stdout",
     "output_type": "stream",
     "text": [
      "                     3                                                \n",
      "         ____________|__________                                       \n",
      "        |                       2                                     \n",
      "        |                   ____|_____________                         \n",
      "        |                  |                  2                       \n",
      "        |                  |     _____________|____                    \n",
      "        |                  |    |                  2                  \n",
      "        |                  |    |         _________|___                \n",
      "        3                  |    |        |             2              \n",
      "  ______|______            |    |        |          ___|___            \n",
      " |             3           |    |        2         |       2          \n",
      " |       ______|_____      |    |     ___|____     |    ___|_____      \n",
      " |      2            3     |    |    |        2    2   |         3    \n",
      " |      |            |     |    |    |        |    |   |         |     \n",
      " a  bilingual     charmer just like the     woman who  it     inspired\n",
      "\n"
     ]
    }
   ],
   "source": [
    "from nltk import Tree\n",
    "sent =  \"(3 (3 a (3 (2 bilingual) (3 charmer ))) (2 just (2 like (2 (2 the (2 woman )) (2 (2 who ) (2 (3 inspired ) it ))))))\"\n",
    "tree = Tree.fromstring(sent)\n",
    "tree.pretty_print()"
   ]
  },
  {
   "cell_type": "markdown",
   "metadata": {},
   "source": [
    "As is the case with the preceding example, the following histogram shows that about 80,000 phrases have been given a neutral score of 2, while the scores 0 and 4 have been appplied to less than 10,000 phrases each."
   ]
  },
  {
   "cell_type": "code",
   "execution_count": 20,
   "metadata": {},
   "outputs": [
    {
     "data": {
      "text/plain": [
       "Sentiment\n",
       "0    AxesSubplot(0.125,0.125;0.775x0.755)\n",
       "1    AxesSubplot(0.125,0.125;0.775x0.755)\n",
       "2    AxesSubplot(0.125,0.125;0.775x0.755)\n",
       "3    AxesSubplot(0.125,0.125;0.775x0.755)\n",
       "4    AxesSubplot(0.125,0.125;0.775x0.755)\n",
       "Name: Sentiment, dtype: object"
      ]
     },
     "execution_count": 20,
     "metadata": {},
     "output_type": "execute_result"
    },
    {
     "data": {
      "image/png": "[encoded data removed]",
      "text/plain": [
       "<Figure size 432x288 with 1 Axes>"
      ]
     },
     "metadata": {
      "needs_background": "light"
     },
     "output_type": "display_data"
    }
   ],
   "source": [
    "data.groupby(['Sentiment'])['Sentiment'].hist()"
   ]
  },
  {
   "cell_type": "markdown",
   "metadata": {},
   "source": [
    "## 2. Baseline \"Bag of Words\" Approach\n",
    "\n",
    "Before analyzing the full dataset, I will demonstrate the limitations of the basic \"Bag of Words\" approach using only the root sentences, which were added to the **sentences** dataframe above."
   ]
  },
  {
   "cell_type": "markdown",
   "metadata": {},
   "source": [
    "### 2.1. Train-Test Split\n",
    "\n",
    "Because it will be important to keep the subphrases together with their root sentences in the full analysis, I am going to simply split the data 80/20 based on the **SentenceId** rather than creating a randomized split. "
   ]
  },
  {
   "cell_type": "code",
   "execution_count": 21,
   "metadata": {},
   "outputs": [],
   "source": [
    "s_train = sentences.loc[sentences['SentenceId'] <= 6824]\n",
    "s_test = sentences.loc[sentences['SentenceId'] > 6824]"
   ]
  },
  {
   "cell_type": "markdown",
   "metadata": {},
   "source": [
    "### 2.2. Preprocessing\n",
    "\n",
    "Preprocessing language data typically involves tokenizing sentences into words, normalizing the words (converting to lower case, etc.), and removing punctuation and stop words. The **CountVectorizer** provided by scikit-learn feature_extraction.text will first perform tokenization and normaliztion and then convert each phrase into a word vector with each word in the corpus represented by a unique integer id. Note that the CountVectorizer should be fit on the train set to avoid leakage. "
   ]
  },
  {
   "cell_type": "code",
   "execution_count": 25,
   "metadata": {},
   "outputs": [
    {
     "data": {
      "text/plain": [
       "CountVectorizer(analyzer=u'word', binary=False, decode_error=u'strict',\n",
       "        dtype=<type 'numpy.int64'>, encoding=u'utf-8', input=u'content',\n",
       "        lowercase=True, max_df=1.0, max_features=None, min_df=1,\n",
       "        ngram_range=(1, 1), preprocessor=None, stop_words=None,\n",
       "        strip_accents=None, token_pattern=u'(?u)\\\\b\\\\w\\\\w+\\\\b',\n",
       "        tokenizer=None, vocabulary=None)"
      ]
     },
     "execution_count": 25,
     "metadata": {},
     "output_type": "execute_result"
    }
   ],
   "source": [
    "from sklearn.feature_extraction.text import CountVectorizer\n",
    "s_cv = CountVectorizer()\n",
    "s_cv.fit(s_train['Phrase'])"
   ]
  },
  {
   "cell_type": "markdown",
   "metadata": {},
   "source": [
    "### 2.3. Multinomial Logistic Regression\n",
    "\n",
    "I will use the **LogisticRegression** model provided by scikit-learn for the sentiment analysis. "
   ]
  },
  {
   "cell_type": "code",
   "execution_count": 27,
   "metadata": {},
   "outputs": [],
   "source": [
    "from sklearn.linear_model import LogisticRegression\n",
    "\n",
    "x = s_cv.transform(s_train['Phrase'])\n",
    "X = s_cv.transform(s_test['Phrase']) \n",
    "y = s_train['Sentiment'].values \n",
    "Y = s_test['Sentiment'].values \n",
    "\n",
    "s_clf = LogisticRegression(solver='lbfgs', max_iter=500, multi_class='multinomial')\n",
    "s_clf.fit(x, y)\n",
    "Y_hat = s_clf.predict(X)"
   ]
  },
  {
   "cell_type": "markdown",
   "metadata": {},
   "source": [
    "We can score the model for accuracy using **accuracy_score** from scikit-learn. You will note that this model using only the root sentences scores about 39%."
   ]
  },
  {
   "cell_type": "code",
   "execution_count": 28,
   "metadata": {},
   "outputs": [
    {
     "name": "stdout",
     "output_type": "stream",
     "text": [
      "0.3865889212827988\n"
     ]
    }
   ],
   "source": [
    "from sklearn.metrics import accuracy_score\n",
    "print accuracy_score(Y, Y_hat)"
   ]
  },
  {
   "cell_type": "markdown",
   "metadata": {},
   "source": [
    "## 3. Sentiment Tree Analysis\n",
    "\n",
    "The full Rotten Tomatoes movie review dataset does not only include labels for the root sentences, but also for each component phrase in the underlying phrase tree analysis. Adding these subphrases improves the model by retaining information about the underlying grammatical structure rather than simply using a list of words."
   ]
  },
  {
   "cell_type": "markdown",
   "metadata": {},
   "source": [
    "### 3.1. Train-Test Split\n",
    "\n",
    "Again, in order to keep the component phrases together with their root sentence, I will split the dataset 80/20 based on **SentenceId**. "
   ]
  },
  {
   "cell_type": "code",
   "execution_count": 30,
   "metadata": {},
   "outputs": [],
   "source": [
    "train = data.loc[data['SentenceId'] <= 6824]\n",
    "test = data.loc[data['SentenceId'] > 6824]"
   ]
  },
  {
   "cell_type": "markdown",
   "metadata": {},
   "source": [
    "### 3.2. Preprocessing\n",
    "\n",
    "Next I will fit the **count vectorizer** provided in the scikit-learn **feature_extraction** class using the train portion of the full dataset."
   ]
  },
  {
   "cell_type": "code",
   "execution_count": 31,
   "metadata": {},
   "outputs": [
    {
     "data": {
      "text/plain": [
       "CountVectorizer(analyzer=u'word', binary=False, decode_error=u'strict',\n",
       "        dtype=<type 'numpy.int64'>, encoding=u'utf-8', input=u'content',\n",
       "        lowercase=True, max_df=1.0, max_features=None, min_df=1,\n",
       "        ngram_range=(1, 1), preprocessor=None, stop_words=None,\n",
       "        strip_accents=None, token_pattern=u'(?u)\\\\b\\\\w\\\\w+\\\\b',\n",
       "        tokenizer=None, vocabulary=None)"
      ]
     },
     "execution_count": 31,
     "metadata": {},
     "output_type": "execute_result"
    }
   ],
   "source": [
    "cv = CountVectorizer()\n",
    "cv.fit(train['Phrase'])"
   ]
  },
  {
   "cell_type": "markdown",
   "metadata": {},
   "source": [
    "### 3.3 Multinomial Logistic Regression\n",
    "\n",
    "I will again use the **LogisticRegression** model provided by scikit-learn for prediction."
   ]
  },
  {
   "cell_type": "code",
   "execution_count": 33,
   "metadata": {},
   "outputs": [],
   "source": [
    "x = cv.transform(train['Phrase'])\n",
    "X = cv.transform(test['Phrase']) \n",
    "y = train['Sentiment'].values \n",
    "Y = test['Sentiment'].values \n",
    "\n",
    "clf = LogisticRegression(solver='lbfgs', max_iter=500, multi_class='multinomial')\n",
    "clf.fit(x, y)\n",
    "Y_hat = clf.predict(X)"
   ]
  },
  {
   "cell_type": "markdown",
   "metadata": {},
   "source": [
    "I will add the predicted values to the test data as a new column in order to analyze the accuracy of the new model on different sub groups of data."
   ]
  },
  {
   "cell_type": "code",
   "execution_count": 38,
   "metadata": {},
   "outputs": [
    {
     "data": {
      "text/html": [
       "<div>\n",
       "<style scoped>\n",
       "    .dataframe tbody tr th:only-of-type {\n",
       "        vertical-align: middle;\n",
       "    }\n",
       "\n",
       "    .dataframe tbody tr th {\n",
       "        vertical-align: top;\n",
       "    }\n",
       "\n",
       "    .dataframe thead th {\n",
       "        text-align: right;\n",
       "    }\n",
       "</style>\n",
       "<table border=\"1\" class=\"dataframe\">\n",
       "  <thead>\n",
       "    <tr style=\"text-align: right;\">\n",
       "      <th></th>\n",
       "      <th>PhraseId</th>\n",
       "      <th>SentenceId</th>\n",
       "      <th>Phrase</th>\n",
       "      <th>Sentiment</th>\n",
       "      <th>N</th>\n",
       "      <th>Pred</th>\n",
       "    </tr>\n",
       "  </thead>\n",
       "  <tbody>\n",
       "    <tr>\n",
       "      <th>126947</th>\n",
       "      <td>126948</td>\n",
       "      <td>6825</td>\n",
       "      <td>Such a fine idea for a film , and such a stult...</td>\n",
       "      <td>1</td>\n",
       "      <td>13</td>\n",
       "      <td>1</td>\n",
       "    </tr>\n",
       "    <tr>\n",
       "      <th>126948</th>\n",
       "      <td>126949</td>\n",
       "      <td>6825</td>\n",
       "      <td>Such a fine idea for a film , and such a stult...</td>\n",
       "      <td>2</td>\n",
       "      <td>11</td>\n",
       "      <td>4</td>\n",
       "    </tr>\n",
       "    <tr>\n",
       "      <th>126949</th>\n",
       "      <td>126950</td>\n",
       "      <td>6825</td>\n",
       "      <td>Such a fine idea</td>\n",
       "      <td>4</td>\n",
       "      <td>4</td>\n",
       "      <td>3</td>\n",
       "    </tr>\n",
       "    <tr>\n",
       "      <th>126950</th>\n",
       "      <td>126951</td>\n",
       "      <td>6825</td>\n",
       "      <td>a fine idea</td>\n",
       "      <td>3</td>\n",
       "      <td>3</td>\n",
       "      <td>3</td>\n",
       "    </tr>\n",
       "    <tr>\n",
       "      <th>126951</th>\n",
       "      <td>126952</td>\n",
       "      <td>6825</td>\n",
       "      <td>fine idea</td>\n",
       "      <td>3</td>\n",
       "      <td>2</td>\n",
       "      <td>3</td>\n",
       "    </tr>\n",
       "  </tbody>\n",
       "</table>\n",
       "</div>"
      ],
      "text/plain": [
       "        PhraseId  SentenceId  \\\n",
       "126947    126948        6825   \n",
       "126948    126949        6825   \n",
       "126949    126950        6825   \n",
       "126950    126951        6825   \n",
       "126951    126952        6825   \n",
       "\n",
       "                                                   Phrase  Sentiment   N  Pred  \n",
       "126947  Such a fine idea for a film , and such a stult...          1  13     1  \n",
       "126948  Such a fine idea for a film , and such a stult...          2  11     4  \n",
       "126949                                   Such a fine idea          4   4     3  \n",
       "126950                                        a fine idea          3   3     3  \n",
       "126951                                          fine idea          3   2     3  "
      ]
     },
     "execution_count": 38,
     "metadata": {},
     "output_type": "execute_result"
    }
   ],
   "source": [
    "test = pd.DataFrame(test)\n",
    "test['Pred'] = Y_hat\n",
    "test.head()"
   ]
  },
  {
   "cell_type": "markdown",
   "metadata": {},
   "source": [
    "First, the overall accuracy for the full dataset is approximately 59%."
   ]
  },
  {
   "cell_type": "code",
   "execution_count": 36,
   "metadata": {},
   "outputs": [
    {
     "name": "stdout",
     "output_type": "stream",
     "text": [
      "0.592037921203586\n"
     ]
    }
   ],
   "source": [
    "print accuracy_score(test['Sentiment'], test['Pred'])"
   ]
  },
  {
   "cell_type": "markdown",
   "metadata": {},
   "source": [
    "Remember, however, that the full dataset includes all of the sub phrases along with the root sentences. The following code will subcategorize the accuracy based on the number of words (**N**) in the phrase. "
   ]
  },
  {
   "cell_type": "code",
   "execution_count": 39,
   "metadata": {},
   "outputs": [],
   "source": [
    "results = []\n",
    "for n in range(1,49): \n",
    "    Y = test.loc[test['N'] <= n]['Sentiment'].values \n",
    "    Y_hat = test.loc[test['N'] <= n]['Pred'].values \n",
    "    results.append(accuracy_score(Y, Y_hat))"
   ]
  },
  {
   "cell_type": "markdown",
   "metadata": {},
   "source": [
    "The following plot shows that the accuracy of the model decreases as the maximum phrase size increases. In other words, the model has a much more difficult time classifying longer phrases. "
   ]
  },
  {
   "cell_type": "code",
   "execution_count": 40,
   "metadata": {},
   "outputs": [
    {
     "data": {
      "image/png": "[encoded data removed]",
      "text/plain": [
       "<Figure size 432x288 with 1 Axes>"
      ]
     },
     "metadata": {
      "needs_background": "light"
     },
     "output_type": "display_data"
    }
   ],
   "source": [
    "import matplotlib.pyplot as plt\n",
    "x = range(1,49)\n",
    "plt.plot(x,results)\n",
    "plt.ylabel('Accuracy')\n",
    "plt.xlabel('Max N')\n",
    "plt.show()"
   ]
  },
  {
   "cell_type": "markdown",
   "metadata": {},
   "source": [
    "The following code isolates the root sentences and calculates the score of the new model for comparison with the baseline \"bag of words\" approach. This shows that accuracy has improved from approximately 39% to 41% for the root sentences. "
   ]
  },
  {
   "cell_type": "code",
   "execution_count": 42,
   "metadata": {},
   "outputs": [
    {
     "name": "stdout",
     "output_type": "stream",
     "text": [
      "0.4110787172011662\n"
     ]
    }
   ],
   "source": [
    "s_test = test.groupby(['SentenceId']).first().reset_index()\n",
    "s_Y = s_test['Sentiment']\n",
    "s_Y_hat = s_test['Pred']\n",
    "print accuracy_score(s_Y, s_Y_hat)"
   ]
  }
 ],
 "metadata": {
  "kernelspec": {
   "display_name": "Python 2",
   "language": "python",
   "name": "python2"
  },
  "language_info": {
   "codemirror_mode": {
    "name": "ipython",
    "version": 2
   },
   "file_extension": ".py",
   "mimetype": "text/x-python",
   "name": "python",
   "nbconvert_exporter": "python",
   "pygments_lexer": "ipython2",
   "version": "2.7.16"
  }
 },
 "nbformat": 4,
 "nbformat_minor": 2
}
