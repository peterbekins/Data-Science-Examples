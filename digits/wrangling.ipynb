{
 "cells": [
  {
   "cell_type": "markdown",
   "metadata": {},
   "source": [
    "# Digit Recognizer Project\n",
    "## Part 1. Data Wrangling\n",
    "\n",
    "This project applies supervised machine learning techniques to classify images from the MNIST database of handwritten images available at http://yann.lecun.com/exdb/mnist/. Each image is a 28 x 28 matirx that represents a handwritten digit from 0 to 9.The database has been divided into a train set of 60,000 examples and a test set of 10,000 examples.  "
   ]
  },
  {
   "cell_type": "markdown",
   "metadata": {},
   "source": [
    "### 1. Load data files and convert from idx to numpy arrays\n",
    "\n",
    "The database is broken into four gzip files with the images and labels stored separately for the train and test sets. The images are also encoded using the .idx3-ubyte format. The **idx2numpy** package can be used to convert the images into 28x28 numpy arrays in which the integers 0 to 256 are used to represent the brightness of each pixel on a grayscale. "
   ]
  },
  {
   "cell_type": "code",
   "execution_count": 1,
   "metadata": {},
   "outputs": [],
   "source": [
    "import gzip\n",
    "import numpy as np\n",
    "import pandas as pd\n",
    "import idx2numpy\n",
    "\n",
    "train_image_file = gzip.open('./data/train-images-idx3-ubyte.gz')\n",
    "train_label_file = gzip.open('./data/train-labels-idx1-ubyte.gz')\n",
    "test_image_file = gzip.open('./data/t10k-images-idx3-ubyte.gz')\n",
    "test_label_file = gzip.open('./data/t10k-labels-idx1-ubyte.gz')\n",
    "\n",
    "train_image_array = idx2numpy.convert_from_file(train_image_file)\n",
    "train_label_array = idx2numpy.convert_from_file(train_label_file)\n",
    "test_image_array = idx2numpy.convert_from_file(test_image_file)\n",
    "test_label_array = idx2numpy.convert_from_file(test_label_file)"
   ]
  },
  {
   "cell_type": "markdown",
   "metadata": {},
   "source": [
    "### 2. Convert numpy arrays from 2d to 1d and save as pandas df\n",
    "\n",
    "The data must next be converted into a **tidy** format table with one row per observation. \n",
    "\n",
    "First, I will transform the image files by flattening the 28x28 arrays into 1d arrays with 784 features. Next, I will transform the nparrays into pandas dataframes and then save as compressed CSV files to save time in future steps."
   ]
  },
  {
   "cell_type": "code",
   "execution_count": null,
   "metadata": {},
   "outputs": [],
   "source": [
    "def array_to_pandas(array):\n",
    "    \"\"\"\n",
    "    Function to convert MNIST data from nparray to pandas dataframe\n",
    "    :param array:\n",
    "    :return df:\n",
    "    \"\"\"\n",
    "    features = []\n",
    "    for row in array:\n",
    "        features.append(row.flatten())\n",
    "\n",
    "    df = pd.DataFrame(data=features,\n",
    "                      index=[i for i in range(len(features))],\n",
    "                      columns=['p' + str(i) for i in range(len(features[0]))]\n",
    "                     )\n",
    "    return df\n",
    "\n",
    "# Convert arrays to pandas dfs\n",
    "train_images = array_to_pandas(train_image_array)\n",
    "test_images = array_to_pandas(test_image_array)\n",
    "\n",
    "# Write pandas dfs to .csv files\n",
    "train_images_out = './data/mnist_train_images.gz'\n",
    "test_images_out = './data/mnist_test_images.gz'\n",
    "train_images.to_csv(train_images_out, compression = 'gzip')\n",
    "test_images.to_csv(test_images_out, compression = 'gzip')\n",
    "\n",
    "train_images.head()"
   ]
  },
  {
   "cell_type": "markdown",
   "metadata": {},
   "source": [
    "For simplification, I will also write the label files in CSV format. "
   ]
  },
  {
   "cell_type": "code",
   "execution_count": null,
   "metadata": {},
   "outputs": [],
   "source": [
    "# Convert arrays to pandas dfs\n",
    "train_labels = pd.DataFrame(data=train_label_array,\n",
    "                      index=[i for i in range(len(train_label_array))],\n",
    "                      columns=['label']\n",
    "                     )\n",
    "test_labels = pd.DataFrame(data=test_label_array,\n",
    "                      index=[i for i in range(len(test_label_array))],\n",
    "                      columns=['label']\n",
    "                     )\n",
    "\n",
    "# Write pandas dfs to .csv files\n",
    "train_labels_out = './data/mnist_train_labels.gz'\n",
    "test_labels_out = './data/mnist_test_labels.gz'\n",
    "train_labels.to_csv(train_labels_out, compression = 'gzip')\n",
    "test_labels.to_csv(test_labels_out, compression = 'gzip')\n",
    "\n",
    "train_labels.head()"
   ]
  },
  {
   "cell_type": "code",
   "execution_count": null,
   "metadata": {},
   "outputs": [],
   "source": []
  }
 ],
 "metadata": {
  "kernelspec": {
   "display_name": "Python 2",
   "language": "python",
   "name": "python2"
  },
  "language_info": {
   "codemirror_mode": {
    "name": "ipython",
    "version": 2
   },
   "file_extension": ".py",
   "mimetype": "text/x-python",
   "name": "python",
   "nbconvert_exporter": "python",
   "pygments_lexer": "ipython2",
   "version": "2.7.16"
  }
 },
 "nbformat": 4,
 "nbformat_minor": 2
}
