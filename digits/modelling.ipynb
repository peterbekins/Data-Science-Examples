{
 "cells": [
  {
   "cell_type": "markdown",
   "metadata": {},
   "source": [
    "# Digit Recognizer Project\n",
    "## Step 3. Choosing a Model\n",
    "\n",
    "In this notebook I will test the effectiveness of three separate models: linear regression, k-nearest neighbor, and random forest. "
   ]
  },
  {
   "cell_type": "markdown",
   "metadata": {},
   "source": [
    "### 1. Load and prepare data\n",
    "\n",
    "The MNIST data was converted into compressed files with CSV format in a previous workbook. To begin, I will load the files into pandas dataframes and sample a smaller dataset to reduce computation time. I will then apply **VarianceThreshold** from scikit-learn to reduce dimensionality of the features followed by **StandardScalar** to help improve the performance of the models."
   ]
  },
  {
   "cell_type": "code",
   "execution_count": 1,
   "metadata": {},
   "outputs": [],
   "source": [
    "import matplotlib.pyplot as plt\n",
    "import numpy as np\n",
    "import pandas as pd\n",
    "import warnings\n",
    "warnings.filterwarnings('ignore')\n",
    "\n",
    "from sklearn.feature_selection import VarianceThreshold\n",
    "from sklearn.preprocessing import StandardScaler\n",
    "\n",
    "train_image_file = './data/mnist_train_images.gz'\n",
    "train_label_file = './data/mnist_train_labels.gz'\n",
    "test_image_file = './data/mnist_test_images.gz'\n",
    "test_label_file = './data/mnist_test_labels.gz'\n",
    "\n",
    "# Read compressed CSV files into pandas dfs \n",
    "x_train = pd.read_csv(train_image_file, index_col = 0, compression = 'gzip')\n",
    "y_train = pd.read_csv(train_label_file, index_col = 0, compression = 'gzip')\n",
    "X_test = pd.read_csv(test_image_file, index_col = 0, compression = 'gzip')\n",
    "Y_test = pd.read_csv(test_label_file, index_col = 0, compression = 'gzip')\n",
    "\n",
    "# Sample a subset of images (10000 train and 1000 test)\n",
    "y_sample = y_train.sample(n=10000)\n",
    "Y_sample = Y_test.sample(n=1000)\n",
    "x_sample = x_train.iloc[y_sample.index.tolist()]\n",
    "X_sample = X_test.iloc[Y_sample.index.tolist()]\n",
    "\n",
    "# Remove low variance features (be sure to only fit on train set to avoid leakage)\n",
    "selector = VarianceThreshold(threshold = 0.25)\n",
    "x_low = selector.fit_transform(x_sample)\n",
    "X_low = selector.transform(X_sample)\n",
    "\n",
    "# Normalize features (be sure to only fit on train set to avoid leakage)\n",
    "scaler = StandardScaler()\n",
    "x = scaler.fit_transform(x_low)\n",
    "X = scaler.transform(X_low)\n",
    "\n",
    "# Convert target variables to 1d array\n",
    "y = y_sample['label'].values\n",
    "Y = Y_sample['label'].values"
   ]
  },
  {
   "cell_type": "code",
   "execution_count": 2,
   "metadata": {},
   "outputs": [
    {
     "data": {
      "text/plain": [
       "(10000, 659)"
      ]
     },
     "execution_count": 2,
     "metadata": {},
     "output_type": "execute_result"
    }
   ],
   "source": [
    "x.shape"
   ]
  },
  {
   "cell_type": "code",
   "execution_count": 3,
   "metadata": {},
   "outputs": [
    {
     "data": {
      "text/plain": [
       "(1000, 659)"
      ]
     },
     "execution_count": 3,
     "metadata": {},
     "output_type": "execute_result"
    }
   ],
   "source": [
    "X.shape"
   ]
  },
  {
   "cell_type": "markdown",
   "metadata": {},
   "source": [
    "### 2. Fit and evaluate logistic regression model\n",
    "\n",
    "Multinomial logistic regression can be used to build a model where there are more than two outcomes that are not ordered. The algorithm works by estimating probabilities for a given outcome based on the dependent variables using a logistic function."
   ]
  },
  {
   "cell_type": "code",
   "execution_count": 9,
   "metadata": {},
   "outputs": [
    {
     "name": "stdout",
     "output_type": "stream",
     "text": [
      "Pred [1 3 7 7 6 0 1 5 7 0 7 0 0 3 8 9 8 8 7 1 4 7 0 6 7 2 5 3 1 9]\n",
      "True [1 3 7 7 6 0 1 5 7 0 7 0 2 5 8 9 8 5 7 2 4 7 8 5 7 6 5 3 1 9]\n"
     ]
    }
   ],
   "source": [
    "from sklearn.linear_model import LogisticRegression\n",
    "from sklearn.metrics import accuracy_score\n",
    "lm = LogisticRegression(C=20, solver='lbfgs', multi_class='multinomial')\n",
    "lm.fit(x,y)\n",
    "Y_lm = lm.predict(X)\n",
    "print \"Pred\", Y_lm[:30]\n",
    "print \"True\", Y[:30]"
   ]
  },
  {
   "cell_type": "code",
   "execution_count": 10,
   "metadata": {},
   "outputs": [
    {
     "name": "stdout",
     "output_type": "stream",
     "text": [
      "0.873\n"
     ]
    }
   ],
   "source": [
    "print accuracy_score(Y, Y_lm)"
   ]
  },
  {
   "cell_type": "markdown",
   "metadata": {},
   "source": [
    "The accuracy of the logistic model is decent with about 87% of the images in the test set classified correctly."
   ]
  },
  {
   "cell_type": "markdown",
   "metadata": {},
   "source": [
    "### 3. Fit and evaluate k-nearest neighbors model\n",
    "\n",
    "The k-nearest neighbors classifier computes the distance between feature vectors for each observation and then classifies the observations by grouping them with their nearest neighbors. The parameter k determines how many neighbors to consider when assigning a class to an observation. \n",
    "\n",
    "The value of k can be tuned by using a combination of iteration over a range of possible k values and K-fold cross validation. For each k value, the train data is divided into K folds of equal size (typically 10 are used), and the model is then fit K times with each fold acting once as the test set in order to score the accuracy of the model for that value of k. (Don't confuse the parameters k and K)."
   ]
  },
  {
   "cell_type": "code",
   "execution_count": 4,
   "metadata": {},
   "outputs": [],
   "source": [
    "from sklearn.neighbors import KNeighborsClassifier\n",
    "from sklearn.model_selection import cross_val_score\n",
    "k_value = []\n",
    "accuracy = []\n",
    "for k in range(1,11):\n",
    "    knn = KNeighborsClassifier(n_neighbors=k)\n",
    "    scores = cross_val_score(knn, x, y, cv=10, scoring='accuracy')\n",
    "    k_value.append(k)\n",
    "    accuracy.append(scores.mean())"
   ]
  },
  {
   "cell_type": "code",
   "execution_count": 5,
   "metadata": {},
   "outputs": [
    {
     "data": {
      "image/png": "[encoded data removed]",
      "text/plain": [
       "<Figure size 432x288 with 1 Axes>"
      ]
     },
     "metadata": {
      "needs_background": "light"
     },
     "output_type": "display_data"
    }
   ],
   "source": [
    "plt.scatter(k_value, accuracy)\n",
    "plt.show()"
   ]
  },
  {
   "cell_type": "code",
   "execution_count": 6,
   "metadata": {},
   "outputs": [
    {
     "name": "stdout",
     "output_type": "stream",
     "text": [
      "[0.9116005051845472, 0.8935950765129279, 0.9108007012081043, 0.9076051909263396, 0.911504616131476, 0.9094938131343057, 0.9103018909881818, 0.9079976837233339, 0.9077989846534953, 0.9075025731101931]\n"
     ]
    }
   ],
   "source": [
    "print accuracy"
   ]
  },
  {
   "cell_type": "markdown",
   "metadata": {},
   "source": [
    "This analysis suggests that the accuracy score is relatively stable for odd values of k between 1 and 5. After k=5, accuracy begins to decline. The following model will use k=5."
   ]
  },
  {
   "cell_type": "code",
   "execution_count": 7,
   "metadata": {},
   "outputs": [
    {
     "name": "stdout",
     "output_type": "stream",
     "text": [
      "Pred [1 3 7 7 6 0 1 5 7 0 7 0 2 3 8 9 8 5 7 2 4 7 8 5 7 6 5 3 1 9]\n",
      "True [1 3 7 7 6 0 1 5 7 0 7 0 2 5 8 9 8 5 7 2 4 7 8 5 7 6 5 3 1 9]\n"
     ]
    }
   ],
   "source": [
    "knn = KNeighborsClassifier(n_neighbors=5)\n",
    "knn.fit(x,y)\n",
    "Y_knn = knn.predict(X)\n",
    "print \"Pred\", Y_knn[:30]\n",
    "print \"True\", Y[:30]"
   ]
  },
  {
   "cell_type": "code",
   "execution_count": 11,
   "metadata": {},
   "outputs": [
    {
     "name": "stdout",
     "output_type": "stream",
     "text": [
      "0.907\n"
     ]
    }
   ],
   "source": [
    "print accuracy_score(Y, Y_knn)"
   ]
  },
  {
   "cell_type": "markdown",
   "metadata": {},
   "source": [
    "The accuracy of the k-nn model is slightly better than the logistic regression, with over 90% of the images in the test set classified correctly."
   ]
  },
  {
   "cell_type": "markdown",
   "metadata": {},
   "source": [
    "### 4. Fit and evaluate random forest model\n",
    "\n",
    "A random forest classifier is an ensemble method that creates multiple decision trees and then classifies based on the average outcome of the individual trees. This model has several parameters to be tuned, so I will use the **GridSearchCV** method from scikit-learn to optimize the best combination of parameters when fitting the model. "
   ]
  },
  {
   "cell_type": "code",
   "execution_count": 24,
   "metadata": {},
   "outputs": [
    {
     "name": "stdout",
     "output_type": "stream",
     "text": [
      "{'max_features': 'log2', 'n_estimators': 500, 'max_depth': 50}\n"
     ]
    }
   ],
   "source": [
    "from sklearn.ensemble import RandomForestClassifier\n",
    "from sklearn.model_selection import GridSearchCV\n",
    "rfc = RandomForestClassifier(oob_score = True, random_state=0)\n",
    "param_grid = { \n",
    "    'n_estimators': [50, 100, 500],\n",
    "    'max_depth': [10,25, 50],\n",
    "    'max_features': ['auto', 'sqrt', 'log2']\n",
    "}\n",
    "\n",
    "CV_rfc = GridSearchCV(estimator=rfc, param_grid=param_grid, cv= 5)\n",
    "CV_rfc.fit(x,y)\n",
    "\n",
    "print CV_rfc.best_params_"
   ]
  },
  {
   "cell_type": "code",
   "execution_count": 25,
   "metadata": {},
   "outputs": [
    {
     "name": "stdout",
     "output_type": "stream",
     "text": [
      "Pred [1 3 7 7 6 0 1 5 7 0 7 0 6 3 8 9 8 6 7 2 4 7 8 5 7 6 5 3 1 9]\n",
      "True [1 3 7 7 6 0 1 5 7 0 7 0 2 5 8 9 8 5 7 2 4 7 8 5 7 6 5 3 1 9]\n"
     ]
    }
   ],
   "source": [
    "Y_rfc = CV_rfc.predict(X)\n",
    "print \"Pred\", Y_rfc[:30]\n",
    "print \"True\", Y[:30]"
   ]
  },
  {
   "cell_type": "code",
   "execution_count": 26,
   "metadata": {},
   "outputs": [
    {
     "name": "stdout",
     "output_type": "stream",
     "text": [
      "0.946\n"
     ]
    }
   ],
   "source": [
    "print accuracy_score(Y, Y_rfc)"
   ]
  },
  {
   "cell_type": "markdown",
   "metadata": {},
   "source": [
    "The random forest model is even better than the k-nn, with almost 95% of the images in the test set classified correctly."
   ]
  },
  {
   "cell_type": "code",
   "execution_count": null,
   "metadata": {},
   "outputs": [],
   "source": []
  }
 ],
 "metadata": {
  "kernelspec": {
   "display_name": "Python 2",
   "language": "python",
   "name": "python2"
  },
  "language_info": {
   "codemirror_mode": {
    "name": "ipython",
    "version": 2
   },
   "file_extension": ".py",
   "mimetype": "text/x-python",
   "name": "python",
   "nbconvert_exporter": "python",
   "pygments_lexer": "ipython2",
   "version": "2.7.16"
  }
 },
 "nbformat": 4,
 "nbformat_minor": 2
}
